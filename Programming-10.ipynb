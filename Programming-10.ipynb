{
 "cells": [
  {
   "cell_type": "markdown",
   "id": "e24beb87",
   "metadata": {},
   "source": [
    "1.Write a Python program to find sum of elements in list?"
   ]
  },
  {
   "cell_type": "code",
   "execution_count": 2,
   "id": "321a30a2",
   "metadata": {},
   "outputs": [
    {
     "name": "stdout",
     "output_type": "stream",
     "text": [
      "21\n"
     ]
    }
   ],
   "source": [
    "l=[1,2,3,4,5,6]\n",
    "sum =0\n",
    "for i in l:\n",
    "    sum+=i\n",
    "print(sum)"
   ]
  },
  {
   "cell_type": "markdown",
   "id": "9a6f1ff2",
   "metadata": {},
   "source": [
    "2.Write a Python program to Multiply all numbers in the list?"
   ]
  },
  {
   "cell_type": "code",
   "execution_count": 5,
   "id": "fbdeb0ea",
   "metadata": {},
   "outputs": [
    {
     "name": "stdout",
     "output_type": "stream",
     "text": [
      "720\n"
     ]
    }
   ],
   "source": [
    "l = [1,2,3,4,5,6]\n",
    "multiply = 1\n",
    "for i in l:\n",
    "    multiply*=i\n",
    "print(multiply)"
   ]
  },
  {
   "cell_type": "markdown",
   "id": "f7550d26",
   "metadata": {},
   "source": [
    "3.Write a Python program to find smallest number in a list?"
   ]
  },
  {
   "cell_type": "code",
   "execution_count": 11,
   "id": "8ea56f15",
   "metadata": {},
   "outputs": [
    {
     "name": "stdout",
     "output_type": "stream",
     "text": [
      "Enter the number : 5\n",
      "-------------------\n",
      "Enter the number : 1\n",
      "Enter the number : 2\n",
      "Enter the number : 3\n",
      "Enter the number : 46\n",
      "Enter the number : 7\n",
      "Smallest number is :  1\n"
     ]
    }
   ],
   "source": [
    "list = []\n",
    "\n",
    "num = int(input(\"Enter the number : \"))\n",
    "\n",
    "print(\"-------------------\")\n",
    "\n",
    "for i in range(1,num+1):\n",
    "    ele = int(input(\"Enter the number : \"))\n",
    "    list.append(ele)\n",
    "    \n",
    "print(\"Smallest number is : \",min(list))"
   ]
  },
  {
   "cell_type": "markdown",
   "id": "59bbcf0f",
   "metadata": {},
   "source": [
    "4. Write a Python program to find largest number in a list?"
   ]
  },
  {
   "cell_type": "code",
   "execution_count": 15,
   "id": "35fc004b",
   "metadata": {},
   "outputs": [
    {
     "name": "stdout",
     "output_type": "stream",
     "text": [
      "Enter the mnumber : 2\n",
      "---------------------\n",
      "Enter the number45\n",
      "Enter the number12\n",
      "Largest number is  :  45\n"
     ]
    }
   ],
   "source": [
    "list = []\n",
    "\n",
    "num = int(input(\"Enter the mnumber : \"))\n",
    "\n",
    "print(\"---------------------\")\n",
    "\n",
    "for i in range(1, num+1):\n",
    "    \n",
    "    ele = int(input(\"Enter the number\"))\n",
    "    \n",
    "    list.append(ele)\n",
    "    \n",
    "print(\"Largest number is  : \", max(list))"
   ]
  },
  {
   "cell_type": "markdown",
   "id": "31aa7541",
   "metadata": {},
   "source": [
    "5.Write a Python program to find second largest number in a list?"
   ]
  },
  {
   "cell_type": "code",
   "execution_count": 18,
   "id": "367476e2",
   "metadata": {},
   "outputs": [
    {
     "name": "stdout",
     "output_type": "stream",
     "text": [
      "Enter the number : 3\n",
      "----------------\n",
      "Enter the number : 2\n",
      "Enter the number : 6\n",
      "Enter the number : 7\n",
      "Second largest element :  6\n"
     ]
    }
   ],
   "source": [
    "list = []\n",
    "\n",
    "num = int(input(\"Enter the number : \"))\n",
    "\n",
    "print(\"----------------\")\n",
    "\n",
    "for i in range(1,num+1):\n",
    "    \n",
    "    num1 = int(input(\"Enter the number : \"))\n",
    "    list.append(num1)\n",
    "    \n",
    "    list.sort()\n",
    "    \n",
    "print(\"Second largest element : \",list[num-2])"
   ]
  },
  {
   "cell_type": "markdown",
   "id": "2d602378",
   "metadata": {},
   "source": [
    "6.Write a Python program to find N largest elements from a list?"
   ]
  },
  {
   "cell_type": "code",
   "execution_count": 24,
   "id": "2c885612",
   "metadata": {},
   "outputs": [
    {
     "name": "stdout",
     "output_type": "stream",
     "text": [
      "[85, 41]\n"
     ]
    }
   ],
   "source": [
    "def maxelement(list1,N):\n",
    "    \n",
    "    final_list = []\n",
    "    \n",
    "    for i in range(0,N):\n",
    "        max1 = 0\n",
    "        \n",
    "        for j in range(len(list1)):\n",
    "            if list1[j]>max1:\n",
    "                max1 = list1[j]\n",
    "                \n",
    "        list1.remove(max1)\n",
    "        final_list.append(max1)\n",
    "    print(final_list)\n",
    "    \n",
    "    \n",
    "list1 = [2,6,41,85,0,3,7,6,10]\n",
    "N = 2\n",
    "\n",
    "maxelement(list1,N)\n"
   ]
  },
  {
   "cell_type": "markdown",
   "id": "45959fef",
   "metadata": {},
   "source": [
    "7.Write a Python program to print even numbers in a list?"
   ]
  },
  {
   "cell_type": "code",
   "execution_count": 27,
   "id": "e59f4376",
   "metadata": {},
   "outputs": [
    {
     "name": "stdout",
     "output_type": "stream",
     "text": [
      "10 4 66 "
     ]
    }
   ],
   "source": [
    "list = [10,21,4,45,66,93]\n",
    "\n",
    "for i in list:\n",
    "    \n",
    "    if i%2==0:\n",
    "        print(i , end = \" \")"
   ]
  },
  {
   "cell_type": "markdown",
   "id": "8ef04242",
   "metadata": {},
   "source": [
    "8.Write a Python program to print odd numbers in a List?"
   ]
  },
  {
   "cell_type": "code",
   "execution_count": 31,
   "id": "6cd7154d",
   "metadata": {},
   "outputs": [
    {
     "name": "stdout",
     "output_type": "stream",
     "text": [
      "Enter the number : 4\n",
      "Enter the number : 2\n",
      "Enter the number : 7\n",
      "Enter the number : 4\n",
      "Enter the number : 9\n",
      " List of Odd number  [2, 7, 4, 9]\n",
      "Odd number is : [7, 9]\n"
     ]
    }
   ],
   "source": [
    "def odd(list):\n",
    "    \n",
    "    new_list = []\n",
    "    for i in list:\n",
    "        if i%2!=0:\n",
    "            new_list.append(i)\n",
    "    return new_list\n",
    "\n",
    "li = []\n",
    "n = int(input(\"Enter the number : \"))\n",
    "for i in range(0,n):\n",
    "    ele = int(input(\"Enter the number : \"))\n",
    "    li.append(ele)\n",
    "    \n",
    "print(\" List of Odd number \",li)\n",
    "print(\"Odd number is :\",odd(li))"
   ]
  },
  {
   "cell_type": "markdown",
   "id": "30419c98",
   "metadata": {},
   "source": [
    "9.Write a Python program to Remove empty List from List?"
   ]
  },
  {
   "cell_type": "code",
   "execution_count": 34,
   "id": "d969695f",
   "metadata": {},
   "outputs": [
    {
     "name": "stdout",
     "output_type": "stream",
     "text": [
      "The original list is : [5, 6, [], 3, [], [], 9]\n",
      "List after empty list removal : [5, 6, 3, 9]\n"
     ]
    }
   ],
   "source": [
    "def empty_list_remove(input_list):\n",
    "    new_list = []\n",
    "    for ele in input_list:\n",
    "        if ele:\n",
    "            new_list.append(ele)\n",
    "    return new_list\n",
    " \n",
    " \n",
    "\n",
    "input_list = [5, 6, [], 3, [], [], 9]\n",
    " \n",
    "print(f\"The original list is : {input_list}\")\n",
    "\n",
    "print(f\"List after empty list removal : {empty_list_remove(input_list)}\")"
   ]
  },
  {
   "cell_type": "markdown",
   "id": "c38928db",
   "metadata": {},
   "source": [
    "10.Write a Python program to Cloning or Copying a list?"
   ]
  },
  {
   "cell_type": "code",
   "execution_count": 36,
   "id": "9e76c34d",
   "metadata": {},
   "outputs": [
    {
     "name": "stdout",
     "output_type": "stream",
     "text": [
      "Original List :  [1, 3, 5, 7, 9, 2, 4, 6, 8]\n",
      "Cloning List :  [1, 3, 5, 7, 9, 2, 4, 6, 8]\n"
     ]
    }
   ],
   "source": [
    "def cloning(li):\n",
    "    li_copy = li[:]\n",
    "    return li_copy\n",
    "\n",
    "li = [1,3,5,7,9,2,4,6,8]\n",
    "li1 = cloning(li)\n",
    "print(\"Original List : \",li)\n",
    "print(\"Cloning List : \",li1)"
   ]
  },
  {
   "cell_type": "markdown",
   "id": "89f40b63",
   "metadata": {},
   "source": [
    "11.Write a Python program to Count occurrences of an element in a list?"
   ]
  },
  {
   "cell_type": "code",
   "execution_count": 44,
   "id": "fb07024f",
   "metadata": {},
   "outputs": [
    {
     "name": "stdout",
     "output_type": "stream",
     "text": [
      "2 has occurred 4 times\n"
     ]
    }
   ],
   "source": [
    "def countx(lst,x):\n",
    "    \n",
    "    count = 0\n",
    "    \n",
    "    for ele in lst:\n",
    "        if ele == x:\n",
    "            count = count+1\n",
    "    \n",
    "    return count\n",
    "    \n",
    "lst = [2,3,4,2,6,8,2,4,2,1,3,4]\n",
    "x =2\n",
    "print('{} has occurred {} times'.format(x, countx(lst, x)))\n"
   ]
  },
  {
   "cell_type": "code",
   "execution_count": null,
   "id": "242e5e18",
   "metadata": {},
   "outputs": [],
   "source": []
  }
 ],
 "metadata": {
  "kernelspec": {
   "display_name": "Python 3 (ipykernel)",
   "language": "python",
   "name": "python3"
  },
  "language_info": {
   "codemirror_mode": {
    "name": "ipython",
    "version": 3
   },
   "file_extension": ".py",
   "mimetype": "text/x-python",
   "name": "python",
   "nbconvert_exporter": "python",
   "pygments_lexer": "ipython3",
   "version": "3.9.12"
  }
 },
 "nbformat": 4,
 "nbformat_minor": 5
}
