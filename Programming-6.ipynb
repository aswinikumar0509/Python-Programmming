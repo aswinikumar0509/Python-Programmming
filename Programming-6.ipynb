{
 "cells": [
  {
   "cell_type": "markdown",
   "id": "492cb3de",
   "metadata": {},
   "source": [
    "Q1.Write a Python Program to Display Fibonacci Sequence Using Recursion?"
   ]
  },
  {
   "cell_type": "code",
   "execution_count": 2,
   "id": "153af5cb",
   "metadata": {},
   "outputs": [
    {
     "name": "stdout",
     "output_type": "stream",
     "text": [
      "34\n"
     ]
    }
   ],
   "source": [
    "def fibonacci(n):\n",
    "    \n",
    "    if n<0:\n",
    "        print(\"Incorrect input\")\n",
    "    elif n==0:\n",
    "        return 0\n",
    "    elif n==1 or n==2:\n",
    "        return 1\n",
    "    else:\n",
    "        return fibonacci(n-1)+fibonacci(n-2)\n",
    "\n",
    "print(fibonacci(9))"
   ]
  },
  {
   "cell_type": "markdown",
   "id": "cedd61eb",
   "metadata": {},
   "source": [
    "Q2.Write a Python Program to Find Factorial of Number Using Recursion?"
   ]
  },
  {
   "cell_type": "code",
   "execution_count": 4,
   "id": "7f13cc5e",
   "metadata": {},
   "outputs": [
    {
     "name": "stdout",
     "output_type": "stream",
     "text": [
      "factorial of  7 is 5040\n"
     ]
    }
   ],
   "source": [
    "def recur_fact(n):\n",
    "    \n",
    "    if n==1:\n",
    "        return n\n",
    "    else:\n",
    "        return n*recur_fact(n-1)\n",
    "    \n",
    "n=7\n",
    "\n",
    "if n<0:\n",
    "    print(\"Incorrect input\")\n",
    "elif n==0:\n",
    "    print(\"Factorial of 0 is 1\")\n",
    "else:\n",
    "    print(\"factorial of \", n , \"is\" , recur_fact(n) )"
   ]
  },
  {
   "cell_type": "markdown",
   "id": "5200e4b6",
   "metadata": {},
   "source": [
    "Q3.Write a Python Program to calculate your Body Mass Index?"
   ]
  },
  {
   "cell_type": "code",
   "execution_count": 8,
   "id": "77e926d6",
   "metadata": {},
   "outputs": [
    {
     "name": "stdout",
     "output_type": "stream",
     "text": [
      "The bmi is  21.64532402096181 soHealthy\n"
     ]
    }
   ],
   "source": [
    "def BMI(height, weight):\n",
    "    bmi = weight/(height**2)\n",
    "    return bmi\n",
    "\n",
    "height = 1.79832\n",
    "weight = 70\n",
    "bmi = BMI(height,weight)\n",
    "print(\"The bmi is \",format(bmi) ,\"so\" , end='')\n",
    "\n",
    "if (bmi<18.5):\n",
    "    print(\"Under weight\")\n",
    "elif (bmi>=18.5 and bmi<24.9):\n",
    "    print(\"Healthy\")\n",
    "elif (bmi >= 24.9 and bmi <30):\n",
    "    print(\"Over weight\")\n",
    "elif (bmi>=30):\n",
    "    print(\"Suffering from obesity\")"
   ]
  },
  {
   "cell_type": "markdown",
   "id": "9d85d9fa",
   "metadata": {},
   "source": [
    "Q4.Write a Python Program to calculate the natural logarithm of any number?"
   ]
  },
  {
   "cell_type": "code",
   "execution_count": 9,
   "id": "f73abdf7",
   "metadata": {},
   "outputs": [
    {
     "name": "stdout",
     "output_type": "stream",
     "text": [
      "Natural logarithm of 14 is : 2.6390573296152584\n",
      "Logarithm base 5 of 14 is : 1.6397385131955606\n"
     ]
    }
   ],
   "source": [
    "import math\n",
    " \n",
    "\n",
    "print (\"Natural logarithm of 14 is : \", end=\"\")\n",
    "print (math.log(14))\n",
    " \n",
    "\n",
    "print (\"Logarithm base 5 of 14 is : \", end=\"\")\n",
    "print (math.log(14,5))"
   ]
  },
  {
   "cell_type": "markdown",
   "id": "877e4be3",
   "metadata": {},
   "source": [
    "Q5.Write a Python Program for cube sum of first n natural numbers?"
   ]
  },
  {
   "cell_type": "code",
   "execution_count": null,
   "id": "c9e864a0",
   "metadata": {},
   "outputs": [],
   "source": [
    "def cube_sum(n):\n",
    "    s=0\n",
    "    for i in range(n+1):\n",
    "        s+=i**3\n",
    "    return s\n",
    "n=int(input(\"enter n: \"))\n",
    "print(\"sum of cubes of first {} natural numbers: \".format(n),cubesum(n))"
   ]
  },
  {
   "cell_type": "code",
   "execution_count": null,
   "id": "dff501b4",
   "metadata": {},
   "outputs": [],
   "source": []
  }
 ],
 "metadata": {
  "kernelspec": {
   "display_name": "Python 3 (ipykernel)",
   "language": "python",
   "name": "python3"
  },
  "language_info": {
   "codemirror_mode": {
    "name": "ipython",
    "version": 3
   },
   "file_extension": ".py",
   "mimetype": "text/x-python",
   "name": "python",
   "nbconvert_exporter": "python",
   "pygments_lexer": "ipython3",
   "version": "3.9.12"
  }
 },
 "nbformat": 4,
 "nbformat_minor": 5
}
