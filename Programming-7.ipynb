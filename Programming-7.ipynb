{
 "cells": [
  {
   "cell_type": "markdown",
   "id": "d4543b7c",
   "metadata": {},
   "source": [
    "Q1.Write a Python Program to find sum of array?"
   ]
  },
  {
   "cell_type": "code",
   "execution_count": 2,
   "id": "f9eb02b5",
   "metadata": {},
   "outputs": [
    {
     "name": "stdout",
     "output_type": "stream",
     "text": [
      "15\n"
     ]
    }
   ],
   "source": [
    "def sum(arr):\n",
    "    \n",
    "    sum = 0\n",
    "    \n",
    "    for i in arr:\n",
    "        sum = sum+i\n",
    "    \n",
    "    return sum\n",
    "\n",
    "arr = [1,2,3,4,5]\n",
    "print(sum(arr))"
   ]
  },
  {
   "cell_type": "markdown",
   "id": "50311fef",
   "metadata": {},
   "source": [
    "Q2.Write a Python Program to find largest element in an array?"
   ]
  },
  {
   "cell_type": "code",
   "execution_count": 10,
   "id": "4f7b8a69",
   "metadata": {},
   "outputs": [
    {
     "name": "stdout",
     "output_type": "stream",
     "text": [
      "9808\n"
     ]
    }
   ],
   "source": [
    "def largest(arr,n):\n",
    "    \n",
    "    max = arr[0]\n",
    "    for i in range(1,n):\n",
    "        if arr[i]>max:\n",
    "            max = arr[i]\n",
    "    return max\n",
    "\n",
    "arr = [10, 324, 45, 90, 9808]\n",
    "n = len(arr)\n",
    "print(largest(arr,n))"
   ]
  },
  {
   "cell_type": "markdown",
   "id": "b737f64c",
   "metadata": {},
   "source": [
    "Q3.Write a Python Program for array rotation?"
   ]
  },
  {
   "cell_type": "code",
   "execution_count": 21,
   "id": "5e216713",
   "metadata": {},
   "outputs": [
    {
     "name": "stdout",
     "output_type": "stream",
     "text": [
      "[1, 2, 3, 4, 5, 6]\n",
      "Rotated list is\n",
      "[6, 1, 2, 3, 4, 5]\n"
     ]
    }
   ],
   "source": [
    "def rotateList(arr,d,n):\n",
    "    arr[:]=arr[d:n]+arr[0:d]\n",
    "    return arr\n",
    "\n",
    "arr = [1, 2, 3, 4, 5, 6]\n",
    "print(arr)\n",
    "print(\"Rotated list is\")\n",
    "print(rotateList(arr,n,len(arr))) "
   ]
  },
  {
   "cell_type": "markdown",
   "id": "d30ffbdf",
   "metadata": {},
   "source": [
    "Q4.Write a Python Program to Split the array and add the first part to the end?"
   ]
  },
  {
   "cell_type": "code",
   "execution_count": 23,
   "id": "21fae454",
   "metadata": {},
   "outputs": [
    {
     "name": "stdout",
     "output_type": "stream",
     "text": [
      "[1, 2, 3, 4, 5, 6]\n",
      "Rotated list is\n",
      "[3, 4, 5, 6, 1, 2]\n"
     ]
    }
   ],
   "source": [
    "def split(arr,d,n):\n",
    "    arr[:]=arr[d:n]+arr[0:d]\n",
    "    return arr\n",
    "\n",
    "arr = [1, 2, 3, 4, 5, 6]\n",
    "print(arr)\n",
    "print(\"Rotated list is\")\n",
    "print(rotateList(arr,2,len(arr))) "
   ]
  },
  {
   "cell_type": "markdown",
   "id": "351145b6",
   "metadata": {},
   "source": [
    "Q5.Write a Python Program to check if given array is Monotonic?"
   ]
  },
  {
   "cell_type": "code",
   "execution_count": 24,
   "id": "f028c4bf",
   "metadata": {},
   "outputs": [
    {
     "name": "stdout",
     "output_type": "stream",
     "text": [
      "True\n"
     ]
    }
   ],
   "source": [
    "def isMonotonic(A):\n",
    "  \n",
    "    return (all(A[i] <= A[i + 1] for i in range(len(A) - 1)) or\n",
    "            all(A[i] >= A[i + 1] for i in range(len(A) - 1)))\n",
    "  \n",
    "\n",
    "A = [6, 5, 4, 4]\n",
    "  \n",
    "\n",
    "print(isMonotonic(A))"
   ]
  },
  {
   "cell_type": "code",
   "execution_count": null,
   "id": "2d356ed5",
   "metadata": {},
   "outputs": [],
   "source": []
  }
 ],
 "metadata": {
  "kernelspec": {
   "display_name": "Python 3 (ipykernel)",
   "language": "python",
   "name": "python3"
  },
  "language_info": {
   "codemirror_mode": {
    "name": "ipython",
    "version": 3
   },
   "file_extension": ".py",
   "mimetype": "text/x-python",
   "name": "python",
   "nbconvert_exporter": "python",
   "pygments_lexer": "ipython3",
   "version": "3.9.12"
  }
 },
 "nbformat": 4,
 "nbformat_minor": 5
}
