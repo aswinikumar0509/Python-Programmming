{
 "cells": [
  {
   "cell_type": "markdown",
   "id": "df73fa49",
   "metadata": {},
   "source": [
    "1.Write a function that takes a list and a number as arguments. Add the number to the end of\n",
    "the list, then remove the first element of the list. The function should then return the updated\n",
    "list.\n",
    "\n",
    "Examples\n",
    "\n",
    "next_in_line([5, 6, 7, 8, 9], 1) ➞ [6, 7, 8, 9, 1]\n",
    "\n",
    "next_in_line([7, 6, 3, 23, 17], 10) ➞ [6, 3, 23, 17, 10]\n",
    "\n",
    "next_in_line([1, 10, 20, 42 ], 6) ➞ [10, 20, 42, 6]\n",
    "\n",
    "next_in_line([], 6) ➞ 'No list has been selected'"
   ]
  },
  {
   "cell_type": "code",
   "execution_count": 1,
   "id": "74de4254",
   "metadata": {},
   "outputs": [],
   "source": [
    "lst = [5,6,7,8,9]\n",
    "\n",
    "def next_in_list(lst , num):\n",
    "    if len(lst) > 0:\n",
    "        lst.append(num)\n",
    "        return lst[1:]\n",
    "    else:\n",
    "        print(\"No list has been selected\")"
   ]
  },
  {
   "cell_type": "code",
   "execution_count": 2,
   "id": "54bfa439",
   "metadata": {},
   "outputs": [
    {
     "data": {
      "text/plain": [
       "[6, 7, 8, 9, 1]"
      ]
     },
     "execution_count": 2,
     "metadata": {},
     "output_type": "execute_result"
    }
   ],
   "source": [
    "next_in_list([5,6,7,8,9],1)"
   ]
  },
  {
   "cell_type": "code",
   "execution_count": 3,
   "id": "86dfc2af",
   "metadata": {},
   "outputs": [
    {
     "data": {
      "text/plain": [
       "[6, 3, 23, 17, 10]"
      ]
     },
     "execution_count": 3,
     "metadata": {},
     "output_type": "execute_result"
    }
   ],
   "source": [
    "next_in_list([7,6,3,23,17],10)"
   ]
  },
  {
   "cell_type": "code",
   "execution_count": 4,
   "id": "c0dd0414",
   "metadata": {},
   "outputs": [
    {
     "name": "stdout",
     "output_type": "stream",
     "text": [
      "No list has been selected\n"
     ]
    }
   ],
   "source": [
    "next_in_list([], 6)"
   ]
  },
  {
   "cell_type": "markdown",
   "id": "94233201",
   "metadata": {},
   "source": [
    "2Create the function that takes a list of dictionaries and returns the sum of people's budgets.\n",
    "\n",
    "Examples\n",
    "\n",
    "get_budgets([\n",
    "\n",
    "{ 'name': 'John', 'age': 21, 'budget': 23000 },\n",
    "\n",
    "{ 'name': 'Steve', 'age': 32, 'budget': 40000 },\n",
    "\n",
    "{ 'name': 'Martin', 'age': 16, 'budget': 2700 }\n",
    "]) ➞ 65700\n",
    "\n",
    "\n",
    "get_budgets([\n",
    "\n",
    "{ 'name': 'John', 'age': 21, 'budget': 29000 },\n",
    "\n",
    "{ 'name': 'Steve', 'age': 32, 'budget': 32000 },\n",
    "\n",
    "{ 'name': 'Martin', 'age': 16, 'budget': 1600 }\n",
    "\n",
    "]) ➞ 62600"
   ]
  },
  {
   "cell_type": "code",
   "execution_count": 5,
   "id": "73900dfc",
   "metadata": {},
   "outputs": [],
   "source": [
    "def get_budget(listDict):\n",
    "    \n",
    "    sum =0 \n",
    "    for dc in listDict:\n",
    "        for k,v in dc.items():\n",
    "            if k =='budget':\n",
    "                sum = sum+v\n",
    "    return sum"
   ]
  },
  {
   "cell_type": "code",
   "execution_count": 6,
   "id": "77dbb582",
   "metadata": {},
   "outputs": [
    {
     "data": {
      "text/plain": [
       "65700"
      ]
     },
     "execution_count": 6,
     "metadata": {},
     "output_type": "execute_result"
    }
   ],
   "source": [
    "get_budget([\n",
    "{ 'name': 'John', 'age': 21, 'budget': 23000 },\n",
    "{ 'name': 'Steve', 'age': 32, 'budget': 40000 },\n",
    "{ 'name': 'Martin', 'age': 16, 'budget': 2700 }\n",
    "])"
   ]
  },
  {
   "cell_type": "code",
   "execution_count": 7,
   "id": "ec3ef149",
   "metadata": {},
   "outputs": [
    {
     "data": {
      "text/plain": [
       "62600"
      ]
     },
     "execution_count": 7,
     "metadata": {},
     "output_type": "execute_result"
    }
   ],
   "source": [
    "get_budget([\n",
    "\n",
    "{ 'name': 'John', 'age': 21, 'budget': 29000 },\n",
    "\n",
    "{ 'name': 'Steve', 'age': 32, 'budget': 32000 },\n",
    "\n",
    "{ 'name': 'Martin', 'age': 16, 'budget': 1600 }\n",
    "\n",
    "])"
   ]
  },
  {
   "cell_type": "markdown",
   "id": "cc4ee508",
   "metadata": {},
   "source": [
    "3.Create a function that takes a string and returns a string with its letters in alphabetical order.\n",
    "\n",
    "Examples\n",
    "\n",
    "alphabet_soup('hello') ➞ 'ehllo'\n",
    "\n",
    "alphabet_soup('edabit') ➞ 'abdeit'\n",
    "\n",
    "alphabet_soup('hacker') ➞ 'acehkr'\n",
    "\n",
    "alphabet_soup('geek') ➞ 'eegk'\n",
    "\n",
    "alphabet_soup('javascript') ➞ 'aacijprstv'"
   ]
  },
  {
   "cell_type": "code",
   "execution_count": 8,
   "id": "c7a898f3",
   "metadata": {},
   "outputs": [],
   "source": [
    "def alphabet_soup(str):\n",
    "    return ''.join(sorted(str))"
   ]
  },
  {
   "cell_type": "code",
   "execution_count": 9,
   "id": "ed2d2c87",
   "metadata": {},
   "outputs": [
    {
     "data": {
      "text/plain": [
       "'ehllo'"
      ]
     },
     "execution_count": 9,
     "metadata": {},
     "output_type": "execute_result"
    }
   ],
   "source": [
    "alphabet_soup('hello')"
   ]
  },
  {
   "cell_type": "markdown",
   "id": "e0b1c83e",
   "metadata": {},
   "source": [
    "4.Suppose that you invest $10,000 for 10 years at an interest rate of 6% compounded monthly.\n",
    "What will be the value of your investment at the end of the 10 year period?\n",
    "Create a function that accepts the principal p, the term in years t, the interest rate r, and the\n",
    "number of compounding periods per year n. The function returns the value at the end of term\n",
    "rounded to the nearest cent.\n",
    "\n",
    "For the example above:\n",
    "    \n",
    "compound_interest(10000, 10, 0.06, 12) ➞ 18193.97\n",
    "\n",
    "Note that the interest rate is given as a decimal and n=12 because with monthly compounding\n",
    "there are 12 periods per year. Compounding can also be done annually, quarterly, weekly, or\n",
    "daily.\n",
    "\n",
    "Examples\n",
    "\n",
    "compound_interest(100, 1, 0.05, 1) ➞ 105.0\n",
    "\n",
    "compound_interest(3500, 15, 0.1, 4) ➞ 15399.26\n",
    "\n",
    "compound_interest(100000, 20, 0.15, 365) ➞ 2007316.26\n",
    "\n",
    "\n",
    "FV = PV(1 + r/m)mt"
   ]
  },
  {
   "cell_type": "code",
   "execution_count": 11,
   "id": "f8bd24e2",
   "metadata": {},
   "outputs": [],
   "source": [
    "def compound_interest(amt,years,intrest,compPeriod):\n",
    "    future_value = amt*(1+(intrest/compPeriod)) ** (years * compPeriod)\n",
    "    return round(future_value,2)"
   ]
  },
  {
   "cell_type": "code",
   "execution_count": 12,
   "id": "86e3d638",
   "metadata": {},
   "outputs": [
    {
     "data": {
      "text/plain": [
       "105.0"
      ]
     },
     "execution_count": 12,
     "metadata": {},
     "output_type": "execute_result"
    }
   ],
   "source": [
    "compound_interest(100, 1, 0.05, 1)"
   ]
  },
  {
   "cell_type": "markdown",
   "id": "db10564c",
   "metadata": {},
   "source": [
    "5.Write a function that takes a list of elements and returns only the integers.\n",
    "\n",
    "Examples\n",
    "\n",
    "return_only_integer([9, 2, 'space', 'car', 'lion', 16]) ➞ [9, 2, 16]\n",
    "\n",
    "return_only_integer(['hello', 81, 'basketball', 123, 'fox']) ➞ [81, 123]\n",
    "\n",
    "return_only_integer([10, '121', 56, 20, 'car', 3, 'lion']) ➞ [10, 56, 20, 3]\n",
    "\n",
    "return_only_integer(['String', True, 3.3, 1]) ➞ [1]"
   ]
  },
  {
   "cell_type": "code",
   "execution_count": 13,
   "id": "2050c945",
   "metadata": {},
   "outputs": [],
   "source": [
    "def return_only_integer(lst):\n",
    "    intLst = []\n",
    "    for i in lst:\n",
    "        if type(i) == int:\n",
    "            intLst.append(i)\n",
    "    return intLst"
   ]
  },
  {
   "cell_type": "code",
   "execution_count": 14,
   "id": "d980e5f2",
   "metadata": {},
   "outputs": [
    {
     "data": {
      "text/plain": [
       "[9, 2, 16]"
      ]
     },
     "execution_count": 14,
     "metadata": {},
     "output_type": "execute_result"
    }
   ],
   "source": [
    "return_only_integer([9, 2, 'space', 'car', 'lion', 16])"
   ]
  },
  {
   "cell_type": "code",
   "execution_count": null,
   "id": "002fc358",
   "metadata": {},
   "outputs": [],
   "source": []
  }
 ],
 "metadata": {
  "kernelspec": {
   "display_name": "Python 3 (ipykernel)",
   "language": "python",
   "name": "python3"
  },
  "language_info": {
   "codemirror_mode": {
    "name": "ipython",
    "version": 3
   },
   "file_extension": ".py",
   "mimetype": "text/x-python",
   "name": "python",
   "nbconvert_exporter": "python",
   "pygments_lexer": "ipython3",
   "version": "3.9.12"
  }
 },
 "nbformat": 4,
 "nbformat_minor": 5
}
