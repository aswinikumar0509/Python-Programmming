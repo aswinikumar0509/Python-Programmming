{
 "cells": [
  {
   "cell_type": "markdown",
   "id": "bfe29591",
   "metadata": {},
   "source": [
    "1. Write a Python Program to Find LCM?\n",
    "\n",
    "Ans->"
   ]
  },
  {
   "cell_type": "code",
   "execution_count": 1,
   "id": "0e76fc77",
   "metadata": {},
   "outputs": [],
   "source": [
    "def calculate_lcm(x,y):\n",
    "    \n",
    "    if x > y:\n",
    "        greater = x\n",
    "    else:\n",
    "        greater = y\n",
    "        \n",
    "    while(True):\n",
    "        if ((greater%x==0)and(greater%y==0)):\n",
    "            lcm =  greater\n",
    "            break\n",
    "            \n",
    "        greater+=1\n",
    "    return lcm"
   ]
  },
  {
   "cell_type": "code",
   "execution_count": 2,
   "id": "2a229847",
   "metadata": {},
   "outputs": [
    {
     "name": "stdout",
     "output_type": "stream",
     "text": [
      "Enter the first number : 4\n",
      "Enter the second number : 3\n",
      "The LCM of  4 and 3 is 12\n"
     ]
    }
   ],
   "source": [
    "x = int(input(\"Enter the first number : \"))\n",
    "y = int(input(\"Enter the second number : \"))\n",
    "\n",
    "print(\"The LCM of \", x , \"and\",y,\"is\",calculate_lcm(x,y))"
   ]
  },
  {
   "cell_type": "markdown",
   "id": "b0f16b2a",
   "metadata": {},
   "source": [
    "2. Write a Python Program to Find HCF?\n",
    "\n",
    "Ans->"
   ]
  },
  {
   "cell_type": "code",
   "execution_count": 3,
   "id": "370c011f",
   "metadata": {},
   "outputs": [],
   "source": [
    "def calculate_hcf(x,y):\n",
    "    \n",
    "    if x > y:\n",
    "        smaller = y\n",
    "    else:\n",
    "        smaller = x\n",
    "    \n",
    "    for i in range(1,smaller+1):\n",
    "        if((x%i==0)and(y%i==0)):\n",
    "            hcf = i\n",
    "        return hcf"
   ]
  },
  {
   "cell_type": "code",
   "execution_count": 4,
   "id": "c60d0daa",
   "metadata": {},
   "outputs": [
    {
     "name": "stdout",
     "output_type": "stream",
     "text": [
      "Enter the number4\n",
      "Enter the number5\n",
      "The H.C.F. of 4 and 5 is 1\n"
     ]
    }
   ],
   "source": [
    "x = int(input(\"Enter the number\"))\n",
    "y = int(input(\"Enter the number\"))\n",
    "print(\"The H.C.F. of\", x,\"and\", y,\"is\", calculate_hcf(x, y))  \n"
   ]
  },
  {
   "cell_type": "markdown",
   "id": "633eb008",
   "metadata": {},
   "source": [
    "3. Write a Python Program to Convert Decimal to Binary, Octal and Hexadecimal?\n",
    "\n",
    "Ans->"
   ]
  },
  {
   "cell_type": "code",
   "execution_count": 5,
   "id": "8b3ea183",
   "metadata": {},
   "outputs": [
    {
     "name": "stdout",
     "output_type": "stream",
     "text": [
      "Enter an integer: 5\n",
      "The decimal value of 5 is:\n",
      "0b101 in binary.\n",
      "0o5 in octal.\n",
      "0x5 in hexadecimal.\n"
     ]
    }
   ],
   "source": [
    "dec = int(input(\"Enter an integer: \"))\n",
    " \n",
    "print(\"The decimal value of\", dec, \"is:\")\n",
    "print(bin(dec), \"in binary.\")\n",
    "print(oct(dec), \"in octal.\")\n",
    "print(hex(dec), \"in hexadecimal.\")"
   ]
  },
  {
   "cell_type": "markdown",
   "id": "2b450d5f",
   "metadata": {},
   "source": [
    "4. Write a Python Program To Find ASCII value of a character?\n",
    "\n",
    "Ans->"
   ]
  },
  {
   "cell_type": "code",
   "execution_count": 6,
   "id": "a66ade81",
   "metadata": {},
   "outputs": [
    {
     "name": "stdout",
     "output_type": "stream",
     "text": [
      "The ASCII value of 'g' is 103\n"
     ]
    }
   ],
   "source": [
    "c = 'g'\n",
    "print(\"The ASCII value of '\" + c + \"' is\", ord(c))"
   ]
  },
  {
   "cell_type": "markdown",
   "id": "1400f425",
   "metadata": {},
   "source": [
    "5. Write a Python Program to Make a Simple Calculator with 4 basic mathematical operations?\n",
    "\n",
    "Ans->"
   ]
  },
  {
   "cell_type": "code",
   "execution_count": 7,
   "id": "87b1d5e4",
   "metadata": {},
   "outputs": [],
   "source": [
    "import tkinter as tk\n",
    "import tkinter.messagebox\n",
    "from tkinter.constants import SUNKEN\n",
    " \n",
    "window = tk.Tk()\n",
    "window.title('Claculator-GeeksForGeeks')\n",
    "frame = tk.Frame(master=window, bg=\"skyblue\", padx=10)\n",
    "frame.pack()\n",
    "entry = tk.Entry(master=frame, relief=SUNKEN, borderwidth=3, width=30)\n",
    "entry.grid(row=0, column=0, columnspan=3, ipady=2, pady=2)\n",
    " \n",
    " \n",
    "def myclick(number):\n",
    "    entry.insert(tk.END, number)\n",
    " \n",
    " \n",
    "def equal():\n",
    "    try:\n",
    "        y = str(eval(entry.get()))\n",
    "        entry.delete(0, tk.END)\n",
    "        entry.insert(0, y)\n",
    "    except:\n",
    "        tkinter.messagebox.showinfo(\"Error\", \"Syntax Error\")\n",
    " \n",
    " \n",
    "def clear():\n",
    "    entry.delete(0, tk.END)\n",
    " \n",
    " \n",
    "button_1 = tk.Button(master=frame, text='1', padx=15,\n",
    "                     pady=5, width=3, command=lambda: myclick(1))\n",
    "button_1.grid(row=1, column=0, pady=2)\n",
    "button_2 = tk.Button(master=frame, text='2', padx=15,\n",
    "                     pady=5, width=3, command=lambda: myclick(2))\n",
    "button_2.grid(row=1, column=1, pady=2)\n",
    "button_3 = tk.Button(master=frame, text='3', padx=15,\n",
    "                     pady=5, width=3, command=lambda: myclick(3))\n",
    "button_3.grid(row=1, column=2, pady=2)\n",
    "button_4 = tk.Button(master=frame, text='4', padx=15,\n",
    "                     pady=5, width=3, command=lambda: myclick(4))\n",
    "button_4.grid(row=2, column=0, pady=2)\n",
    "button_5 = tk.Button(master=frame, text='5', padx=15,\n",
    "                     pady=5, width=3, command=lambda: myclick(5))\n",
    "button_5.grid(row=2, column=1, pady=2)\n",
    "button_6 = tk.Button(master=frame, text='6', padx=15,\n",
    "                     pady=5, width=3, command=lambda: myclick(6))\n",
    "button_6.grid(row=2, column=2, pady=2)\n",
    "button_7 = tk.Button(master=frame, text='7', padx=15,\n",
    "                     pady=5, width=3, command=lambda: myclick(7))\n",
    "button_7.grid(row=3, column=0, pady=2)\n",
    "button_8 = tk.Button(master=frame, text='8', padx=15,\n",
    "                     pady=5, width=3, command=lambda: myclick(8))\n",
    "button_8.grid(row=3, column=1, pady=2)\n",
    "button_9 = tk.Button(master=frame, text='9', padx=15,\n",
    "                     pady=5, width=3, command=lambda: myclick(9))\n",
    "button_9.grid(row=3, column=2, pady=2)\n",
    "button_0 = tk.Button(master=frame, text='0', padx=15,\n",
    "                     pady=5, width=3, command=lambda: myclick(0))\n",
    "button_0.grid(row=4, column=1, pady=2)\n",
    " \n",
    "button_add = tk.Button(master=frame, text=\"+\", padx=15,\n",
    "                       pady=5, width=3, command=lambda: myclick('+'))\n",
    "button_add.grid(row=5, column=0, pady=2)\n",
    " \n",
    "button_subtract = tk.Button(\n",
    "    master=frame, text=\"-\", padx=15, pady=5, width=3, command=lambda: myclick('-'))\n",
    "button_subtract.grid(row=5, column=1, pady=2)\n",
    " \n",
    "button_multiply = tk.Button(\n",
    "    master=frame, text=\"*\", padx=15, pady=5, width=3, command=lambda: myclick('*'))\n",
    "button_multiply.grid(row=5, column=2, pady=2)\n",
    " \n",
    "button_div = tk.Button(master=frame, text=\"/\", padx=15,\n",
    "                       pady=5, width=3, command=lambda: myclick('/'))\n",
    "button_div.grid(row=6, column=0, pady=2)\n",
    " \n",
    "button_clear = tk.Button(master=frame, text=\"clear\",\n",
    "                         padx=15, pady=5, width=12, command=clear)\n",
    "button_clear.grid(row=6, column=1, columnspan=2, pady=2)\n",
    " \n",
    "button_equal = tk.Button(master=frame, text=\"=\", padx=15,\n",
    "                         pady=5, width=9, command=equal)\n",
    "button_equal.grid(row=7, column=0, columnspan=3, pady=2)\n",
    " \n",
    "window.mainloop()"
   ]
  },
  {
   "cell_type": "code",
   "execution_count": null,
   "id": "60359372",
   "metadata": {},
   "outputs": [],
   "source": []
  }
 ],
 "metadata": {
  "kernelspec": {
   "display_name": "Python 3 (ipykernel)",
   "language": "python",
   "name": "python3"
  },
  "language_info": {
   "codemirror_mode": {
    "name": "ipython",
    "version": 3
   },
   "file_extension": ".py",
   "mimetype": "text/x-python",
   "name": "python",
   "nbconvert_exporter": "python",
   "pygments_lexer": "ipython3",
   "version": "3.9.12"
  }
 },
 "nbformat": 4,
 "nbformat_minor": 5
}
