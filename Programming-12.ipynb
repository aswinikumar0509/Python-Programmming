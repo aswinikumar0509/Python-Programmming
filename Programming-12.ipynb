{
 "cells": [
  {
   "cell_type": "markdown",
   "id": "a895fd14",
   "metadata": {},
   "source": [
    "1.Write a Python program to Extract Unique values dictionary values?\n",
    "\n",
    "Ans->"
   ]
  },
  {
   "cell_type": "code",
   "execution_count": 1,
   "id": "e6756a05",
   "metadata": {},
   "outputs": [
    {
     "name": "stdout",
     "output_type": "stream",
     "text": [
      "The dictionary is :\n",
      "{'hi': [5, 3, 8, 0], 'there': [22, 51, 63, 77], 'how': [7, 0, 22], 'you': [56, 31, 89, 90]}\n",
      "The unique value are : \n",
      "[0, 3, 5, 7, 8, 22, 31, 51, 56, 63, 77, 89, 90]\n"
     ]
    }
   ],
   "source": [
    "my_dict = {'hi':[5,3,8,0],\n",
    "          'there':[22,51,63,77],\n",
    "          'how' :[7,0,22],\n",
    "          'you':[56,31,89,90]}\n",
    "\n",
    "print(\"The dictionary is :\")\n",
    "print(my_dict)\n",
    "\n",
    "my_result = list(sorted({elem for val in my_dict .values() for elem in val }))\n",
    "\n",
    "print(\"The unique value are : \")\n",
    "print(my_result)"
   ]
  },
  {
   "cell_type": "markdown",
   "id": "4b50c99f",
   "metadata": {},
   "source": [
    "2.Write a Python program to find the sum of all items in a dictionary?\n",
    "\n",
    "Ans->"
   ]
  },
  {
   "cell_type": "code",
   "execution_count": 2,
   "id": "7793d6bc",
   "metadata": {},
   "outputs": [
    {
     "name": "stdout",
     "output_type": "stream",
     "text": [
      "Dictionary {'x': 455, 'y': 223, 'z': 300, 'p': 908}\n",
      "sum 1886\n"
     ]
    }
   ],
   "source": [
    "dic = {'x' : 455 , 'y' :223 ,'z' : 300 , 'p' : 908 }\n",
    "print(\"Dictionary\" , dic)\n",
    "\n",
    "print(\"sum\" , sum(dic.values()))"
   ]
  },
  {
   "cell_type": "markdown",
   "id": "bda9942d",
   "metadata": {},
   "source": [
    "3.Write a Python program to Merging two Dictionaries?"
   ]
  },
  {
   "cell_type": "code",
   "execution_count": 3,
   "id": "b475b358",
   "metadata": {},
   "outputs": [
    {
     "name": "stdout",
     "output_type": "stream",
     "text": [
      "{'x': 455, 'y': 223, 'z': 300, 'p': 908, 'a': 44, 'b': 45, 'c': 56, 'd': 90}\n"
     ]
    }
   ],
   "source": [
    "def merge(dic1,dic2):\n",
    "    res = dic1 | dic2\n",
    "    return res\n",
    "\n",
    "\n",
    "dic1 = {'x' : 455 , 'y' :223 ,'z' : 300 , 'p' : 908 }\n",
    "dic2 = {'a' :44 , 'b':45,'c':56,'d' : 90}\n",
    "dic3 = merge(dic1,dic2)\n",
    "print(dic3)"
   ]
  },
  {
   "cell_type": "markdown",
   "id": "27bfe97d",
   "metadata": {},
   "source": [
    "4.Write a Python program to convert key-values list to flat dictionary?\n",
    "\n",
    "Ans->"
   ]
  },
  {
   "cell_type": "code",
   "execution_count": 4,
   "id": "ff7dc2af",
   "metadata": {},
   "outputs": [
    {
     "name": "stdout",
     "output_type": "stream",
     "text": [
      "The original dictionary is : {'month': [1, 2, 3], 'name': ['jan', 'feb', 'march']}\n",
      "Flattened dictionary : {1: 'jan', 2: 'feb', 3: 'march'}\n"
     ]
    }
   ],
   "source": [
    "from itertools import product\n",
    "\n",
    "test_dict = {'month':[1,2,3],\n",
    "            'name' : ['jan','feb','march']}\n",
    "\n",
    "print('The original dictionary is : ' + str(test_dict))\n",
    "\n",
    "res = dict(zip(test_dict['month'],test_dict['name']))\n",
    "\n",
    "print(\"Flattened dictionary : \" + str(res))"
   ]
  },
  {
   "cell_type": "markdown",
   "id": "ff420983",
   "metadata": {},
   "source": [
    "5.Write a Python program to insertion at the beginning in OrderedDict?\n",
    "\n",
    "Ans->"
   ]
  },
  {
   "cell_type": "code",
   "execution_count": 5,
   "id": "4f65671a",
   "metadata": {},
   "outputs": [
    {
     "name": "stdout",
     "output_type": "stream",
     "text": [
      "Resultant Dictionary : OrderedDict([('manjeet', '3'), ('akshat', '1'), ('nikhil', '2')])\n"
     ]
    }
   ],
   "source": [
    "from collections import OrderedDict\n",
    "\n",
    "iniordered_dict = OrderedDict([('akshat','1'),('nikhil','2')])\n",
    "\n",
    "iniordered_dict.update({'manjeet':'3'})\n",
    "iniordered_dict.move_to_end('manjeet',last = False)\n",
    "\n",
    "print(\"Resultant Dictionary : \" +str(iniordered_dict))"
   ]
  },
  {
   "cell_type": "markdown",
   "id": "c95a822e",
   "metadata": {},
   "source": [
    "6.Write a Python program to check order of character in string using OrderedDict()?\n",
    "\n",
    "Ans->"
   ]
  },
  {
   "cell_type": "code",
   "execution_count": 6,
   "id": "f58ed488",
   "metadata": {},
   "outputs": [
    {
     "name": "stdout",
     "output_type": "stream",
     "text": [
      "True\n",
      "False\n"
     ]
    }
   ],
   "source": [
    "from collections import OrderedDict\n",
    "\n",
    "def checkorder(string , Pattern):\n",
    "    dic = OrderedDict.fromkeys(string)\n",
    "    ptr = 0\n",
    "    for key , value in dic.items():\n",
    "        if (key == pattern[ptr]):\n",
    "            ptr = ptr+1\n",
    "        if (ptr == (len(pattern))):\n",
    "            return 'True'\n",
    "    return 'False'\n",
    "\n",
    "string = 'study tonight'\n",
    "pattern = 'stu'\n",
    "print(checkorder(string,pattern))\n",
    "\n",
    "\n",
    "string1 = 'Welcome'\n",
    "pattern1 = 'cm'\n",
    "print(checkorder(string1,pattern1))"
   ]
  },
  {
   "cell_type": "markdown",
   "id": "26b52c5a",
   "metadata": {},
   "source": [
    "7.Write a Python program to sort Python Dictionaries by Key or Value?\n",
    "\n",
    "Ans->"
   ]
  },
  {
   "cell_type": "code",
   "execution_count": 7,
   "id": "cb7c901d",
   "metadata": {},
   "outputs": [
    {
     "name": "stdout",
     "output_type": "stream",
     "text": [
      "OrderedDict([('rajnish', '9'), ('ravi', '10'), ('sanjeev', '15'), ('suraj', '32'), ('yash', '2')])\n"
     ]
    }
   ],
   "source": [
    "from collections import OrderedDict\n",
    " \n",
    "dict = {'ravi': '10', 'rajnish': '9',\n",
    "        'sanjeev': '15', 'yash': '2', 'suraj': '32'}\n",
    "dict1 = OrderedDict(sorted(dict.items()))\n",
    "print(dict1)"
   ]
  },
  {
   "cell_type": "code",
   "execution_count": null,
   "id": "8a9475a8",
   "metadata": {},
   "outputs": [],
   "source": []
  }
 ],
 "metadata": {
  "kernelspec": {
   "display_name": "Python 3 (ipykernel)",
   "language": "python",
   "name": "python3"
  },
  "language_info": {
   "codemirror_mode": {
    "name": "ipython",
    "version": 3
   },
   "file_extension": ".py",
   "mimetype": "text/x-python",
   "name": "python",
   "nbconvert_exporter": "python",
   "pygments_lexer": "ipython3",
   "version": "3.9.12"
  }
 },
 "nbformat": 4,
 "nbformat_minor": 5
}
