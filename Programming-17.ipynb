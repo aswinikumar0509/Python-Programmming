{
 "cells": [
  {
   "cell_type": "markdown",
   "id": "8117625b",
   "metadata": {},
   "source": [
    "Question1. Create a function that takes three arguments a, b, c and returns the sum of the\n",
    "numbers that are evenly divided by c from the range a, b inclusive."
   ]
  },
  {
   "cell_type": "code",
   "execution_count": 6,
   "id": "07a5ca70",
   "metadata": {},
   "outputs": [
    {
     "name": "stdout",
     "output_type": "stream",
     "text": [
      "0\n"
     ]
    }
   ],
   "source": [
    "def sumDivisible(A,B,C):\n",
    "    \n",
    "    sum = 0\n",
    "    \n",
    "    for i in range(A,B+1):\n",
    "        if(i%C == 0):\n",
    "            sum+=1\n",
    "    return sum\n",
    "if __name__ == \"__main__\":\n",
    "    A=1\n",
    "    B=10\n",
    "    C=20\n",
    "    \n",
    "    print(sumDivisible(A,B,C))"
   ]
  },
  {
   "cell_type": "markdown",
   "id": "3eeba597",
   "metadata": {},
   "source": [
    "Question2. Create a function that returns True if a given inequality expression is correct and\n",
    "False otherwise."
   ]
  },
  {
   "cell_type": "code",
   "execution_count": 7,
   "id": "4eb672ef",
   "metadata": {},
   "outputs": [
    {
     "name": "stdout",
     "output_type": "stream",
     "text": [
      "True\n",
      "False\n"
     ]
    }
   ],
   "source": [
    "def check(s):\n",
    "    \n",
    "    regex = eval(s)\n",
    "    \n",
    "    if regex:\n",
    "        return True\n",
    "    \n",
    "    else:\n",
    "        return False\n",
    "\n",
    "print(check(\"2<7<15\"))\n",
    "\n",
    "print(check(\"30>45>21>9\"))"
   ]
  },
  {
   "cell_type": "markdown",
   "id": "3f05bba5",
   "metadata": {},
   "source": [
    "Question3. Create a function that replaces all the vowels in a string with a specified character."
   ]
  },
  {
   "cell_type": "code",
   "execution_count": 8,
   "id": "230f15cc",
   "metadata": {},
   "outputs": [
    {
     "name": "stdout",
     "output_type": "stream",
     "text": [
      "Replace string th# ##rdv#rk\n"
     ]
    }
   ],
   "source": [
    "def replacestring(test_str,k):\n",
    "    \n",
    "    vowels = 'AEIOUaeiou'\n",
    "    \n",
    "    for i in vowels:\n",
    "        \n",
    "        test_str = test_str.replace(i,k)\n",
    "        \n",
    "    return test_str\n",
    "\n",
    "input_str = \"the aardvark\"\n",
    "k = \"#\"\n",
    "print(\"Replace string\" , replacestring(input_str,k))"
   ]
  },
  {
   "cell_type": "markdown",
   "id": "cb53701f",
   "metadata": {},
   "source": [
    "Question4. Write a function that calculates the factorial of a number recursively."
   ]
  },
  {
   "cell_type": "code",
   "execution_count": 10,
   "id": "a4da22ff",
   "metadata": {},
   "outputs": [
    {
     "name": "stdout",
     "output_type": "stream",
     "text": [
      "The factorial of  7  is 5040\n"
     ]
    }
   ],
   "source": [
    "def recur_factorial(n):\n",
    "    \n",
    "    if n==1:\n",
    "        return n\n",
    "    else:\n",
    "        return n*recur_factorial(n-1)\n",
    "    \n",
    "num = 7\n",
    "\n",
    "if num < 0:\n",
    "    print(\"Factorial does exist for the negative number\")\n",
    "elif num==0:\n",
    "    print(\"THe factorial of 0 is 1\")\n",
    "else:\n",
    "    print(\"The factorial of \" , num, \" is\" , recur_factorial(num))"
   ]
  },
  {
   "cell_type": "markdown",
   "id": "694ddfac",
   "metadata": {},
   "source": [
    "Question5.Hamming distance is the number of characters that differ between two strings."
   ]
  },
  {
   "cell_type": "code",
   "execution_count": 14,
   "id": "8ad05dba",
   "metadata": {},
   "outputs": [
    {
     "name": "stdout",
     "output_type": "stream",
     "text": [
      "1\n"
     ]
    }
   ],
   "source": [
    "def hamming_distance(str1, str2):\n",
    "    i = 0\n",
    "    count = 0\n",
    "    \n",
    "    while(i<len(str1)):\n",
    "        if(str1[i]!=str2[i]):\n",
    "            count+=1\n",
    "        i+=1\n",
    "    return count\n",
    "\n",
    "str1=\"abcbba\"\n",
    "str2=\"abcbda\"\n",
    "print(hamming_distance(str1,str2))"
   ]
  },
  {
   "cell_type": "code",
   "execution_count": null,
   "id": "3953b1c5",
   "metadata": {},
   "outputs": [],
   "source": []
  }
 ],
 "metadata": {
  "kernelspec": {
   "display_name": "Python 3 (ipykernel)",
   "language": "python",
   "name": "python3"
  },
  "language_info": {
   "codemirror_mode": {
    "name": "ipython",
    "version": 3
   },
   "file_extension": ".py",
   "mimetype": "text/x-python",
   "name": "python",
   "nbconvert_exporter": "python",
   "pygments_lexer": "ipython3",
   "version": "3.9.12"
  }
 },
 "nbformat": 4,
 "nbformat_minor": 5
}
