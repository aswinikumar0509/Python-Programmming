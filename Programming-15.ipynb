{
 "cells": [
  {
   "cell_type": "markdown",
   "id": "aaed8eaf",
   "metadata": {},
   "source": [
    "1.Please write a program using generator to print the numbers which can be divisible by 5 and\n",
    "7 between 0 and n in comma separated form while n is input by console."
   ]
  },
  {
   "cell_type": "code",
   "execution_count": 2,
   "id": "d284f705",
   "metadata": {},
   "outputs": [
    {
     "name": "stdout",
     "output_type": "stream",
     "text": [
      "98\n",
      "0,35,70\n"
     ]
    }
   ],
   "source": [
    "def NumGenerator(n):\n",
    "    for i in range(n+1):\n",
    "        if i%5==0 and i%7==0:\n",
    "            yield i\n",
    "\n",
    "n = int(input())\n",
    "values = []\n",
    "for i in NumGenerator(n):\n",
    "    values.append(str(i))\n",
    "print(\",\".join(values))"
   ]
  },
  {
   "cell_type": "markdown",
   "id": "4c643f60",
   "metadata": {},
   "source": [
    "2.Please write a program using generator to print the even numbers between 0 and n in comma\n",
    "separated form while n is input by console."
   ]
  },
  {
   "cell_type": "code",
   "execution_count": 7,
   "id": "2dc07f39",
   "metadata": {},
   "outputs": [
    {
     "name": "stdout",
     "output_type": "stream",
     "text": [
      "Enter the number1\n",
      "Enter the number18\n",
      "Number is not even\n",
      "2  is even number\n",
      "Number is not even\n",
      "4  is even number\n",
      "Number is not even\n",
      "6  is even number\n",
      "Number is not even\n",
      "8  is even number\n",
      "Number is not even\n",
      "10  is even number\n",
      "Number is not even\n",
      "12  is even number\n",
      "Number is not even\n",
      "14  is even number\n",
      "Number is not even\n",
      "16  is even number\n",
      "Number is not even\n"
     ]
    }
   ],
   "source": [
    "start = int(input(\"Enter the number\"))\n",
    "end =  int(input(\"Enter the number\"))\n",
    "\n",
    "for i in  range(start,end):\n",
    "    if i%2==0:\n",
    "        print(i, \" is even number\")\n",
    "    else:\n",
    "        print(\"Number is not even\")"
   ]
  },
  {
   "cell_type": "markdown",
   "id": "2b56f159",
   "metadata": {},
   "source": [
    "3.The Fibonacci Sequence is computed based on the following formula:\n",
    "\n",
    "f(n)=0 if n=0\n",
    "\n",
    "f(n)=1 if n=1\n",
    "\n",
    "f(n)=f(n-1)+f(n-2) if n&gt;1\n",
    "\n",
    "Please write a program using list comprehension to print the Fibonacci Sequence in comma\n",
    "\n",
    "separated form with a given n input by console."
   ]
  },
  {
   "cell_type": "code",
   "execution_count": 8,
   "id": "39f0a2f2",
   "metadata": {},
   "outputs": [],
   "source": [
    "def fibonaci(n):\n",
    "    \n",
    "    if n<0:\n",
    "        return\n",
    "    elif n==0:\n",
    "        return 0\n",
    "    elif n==1:\n",
    "        return 1\n",
    "    else:\n",
    "        return fibonaci(n-1)+fibonaci(n-2)\n"
   ]
  },
  {
   "cell_type": "code",
   "execution_count": 9,
   "id": "3d46000b",
   "metadata": {},
   "outputs": [
    {
     "name": "stdout",
     "output_type": "stream",
     "text": [
      "55\n"
     ]
    }
   ],
   "source": [
    "print(fibonaci(10))"
   ]
  },
  {
   "cell_type": "markdown",
   "id": "23f7e78b",
   "metadata": {},
   "source": [
    "4.Assuming that we have some email addresses in the &quot;username@companyname.com&quot; format,\n",
    "please write program to print the user name of a given email address. Both user names and\n",
    "company names are composed of letters only."
   ]
  },
  {
   "cell_type": "code",
   "execution_count": 12,
   "id": "681d118b",
   "metadata": {},
   "outputs": [
    {
     "name": "stdout",
     "output_type": "stream",
     "text": [
      "john@google.com\n",
      "john\n"
     ]
    }
   ],
   "source": [
    "import re\n",
    "emailaddress = input()\n",
    "pat2 = \"(\\w+)@(\\w+)\\.(com)\"\n",
    "r2 = re.match(pat2,emailaddress)\n",
    "print(r2.group(1))"
   ]
  },
  {
   "cell_type": "markdown",
   "id": "91a8b2d7",
   "metadata": {},
   "source": [
    "5.Define a class named Shape and its subclass Square. The Square class has an init function\n",
    "which takes a length as argument. Both classes have a area function which can print the area\n",
    "of the shape where Shape&#39;s area is 0 by default."
   ]
  },
  {
   "cell_type": "code",
   "execution_count": 14,
   "id": "c34158ee",
   "metadata": {},
   "outputs": [],
   "source": [
    "class shape(object):\n",
    "    \n",
    "    def __init__(self):\n",
    "        pass\n",
    "    \n",
    "    def area(self):\n",
    "        return 0\n",
    "\n",
    "class square(shape):\n",
    "    \n",
    "    def __init__(self , l ):\n",
    "        shape.__init__(self)\n",
    "        self.length = l\n",
    "        \n",
    "        def area(self):\n",
    "            return self.length *self.length\n",
    "        "
   ]
  },
  {
   "cell_type": "code",
   "execution_count": 15,
   "id": "7667cfda",
   "metadata": {},
   "outputs": [
    {
     "name": "stdout",
     "output_type": "stream",
     "text": [
      "0\n"
     ]
    }
   ],
   "source": [
    "asquare = square(3)\n",
    "print(asquare.area())"
   ]
  },
  {
   "cell_type": "code",
   "execution_count": null,
   "id": "0978670b",
   "metadata": {},
   "outputs": [],
   "source": []
  }
 ],
 "metadata": {
  "kernelspec": {
   "display_name": "Python 3 (ipykernel)",
   "language": "python",
   "name": "python3"
  },
  "language_info": {
   "codemirror_mode": {
    "name": "ipython",
    "version": 3
   },
   "file_extension": ".py",
   "mimetype": "text/x-python",
   "name": "python",
   "nbconvert_exporter": "python",
   "pygments_lexer": "ipython3",
   "version": "3.9.12"
  }
 },
 "nbformat": 4,
 "nbformat_minor": 5
}
