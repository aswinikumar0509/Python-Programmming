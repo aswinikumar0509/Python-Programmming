{
 "cells": [
  {
   "cell_type": "markdown",
   "id": "0fecd6a0",
   "metadata": {},
   "source": [
    "1.Write a Python program to find words which are greater than given length k?"
   ]
  },
  {
   "cell_type": "code",
   "execution_count": 7,
   "id": "086c6d1f",
   "metadata": {},
   "outputs": [
    {
     "name": "stdout",
     "output_type": "stream",
     "text": [
      "['Hello', 'have', 'programming']\n"
     ]
    }
   ],
   "source": [
    "def string_k(k,str):\n",
    "    \n",
    "    string = []\n",
    "    \n",
    "    text = str.split(\" \")\n",
    "    for x in text:\n",
    "        \n",
    "        if len(x)>k:\n",
    "            string.append(x)\n",
    "    return string\n",
    "\n",
    "\n",
    "k = 2\n",
    "str = \"Hello we have to do programming\"\n",
    "print(string_k(k,str))"
   ]
  },
  {
   "cell_type": "markdown",
   "id": "b2ba3b63",
   "metadata": {},
   "source": [
    "2.Write a Python program for removing i-th character from a string?"
   ]
  },
  {
   "cell_type": "code",
   "execution_count": 9,
   "id": "8890d053",
   "metadata": {},
   "outputs": [
    {
     "name": "stdout",
     "output_type": "stream",
     "text": [
      "Pythnisgood\n"
     ]
    }
   ],
   "source": [
    "def remove_char(s,i):\n",
    "    \n",
    "    a = s[:i]\n",
    "    b = s[i+1:]\n",
    "    \n",
    "    return a+b\n",
    "\n",
    "string = \"Pythonisgood\"\n",
    "i=5\n",
    "print(remove_char(string,i-1))"
   ]
  },
  {
   "cell_type": "markdown",
   "id": "b2733352",
   "metadata": {},
   "source": [
    "3.Write a Python program to split and join a string?"
   ]
  },
  {
   "cell_type": "code",
   "execution_count": 11,
   "id": "dbdeaaeb",
   "metadata": {},
   "outputs": [
    {
     "name": "stdout",
     "output_type": "stream",
     "text": [
      "['Hello', 'Python', 'string']\n",
      "Hello Python string\n"
     ]
    }
   ],
   "source": [
    "def split_string(string):\n",
    "    \n",
    "    list_string = string.split()\n",
    "    return list_string\n",
    "\n",
    "def join_string(List_string):\n",
    "    \n",
    "    string = ' '.join(list_string)\n",
    "    \n",
    "    return string\n",
    "\n",
    "string = \"Hello Python string\"\n",
    "\n",
    "list_string = split_string(string)\n",
    "\n",
    "print(list_string)\n",
    "\n",
    "new_string = join_string(list_string)\n",
    "\n",
    "print(new_string)\n",
    "    "
   ]
  },
  {
   "cell_type": "markdown",
   "id": "818e87a0",
   "metadata": {},
   "source": [
    "4.Write a Python to check if a given string is binary string or not?"
   ]
  },
  {
   "cell_type": "code",
   "execution_count": 13,
   "id": "ca34adff",
   "metadata": {},
   "outputs": [
    {
     "name": "stdout",
     "output_type": "stream",
     "text": [
      "yes\n"
     ]
    }
   ],
   "source": [
    "def check(string):\n",
    "    \n",
    "    p = set(string)\n",
    "    \n",
    "    s = {'0','1'}\n",
    "    \n",
    "    if s==p or p == {'0'} or p== {'1'}:\n",
    "        print(\"yes\")\n",
    "    else:\n",
    "        print(\"no\")\n",
    "        \n",
    "string = \"1010100011\"\n",
    "check(string)"
   ]
  },
  {
   "cell_type": "markdown",
   "id": "4bf522f2",
   "metadata": {},
   "source": [
    "5.Write a Python program to find uncommon words from two Strings?"
   ]
  },
  {
   "cell_type": "code",
   "execution_count": 16,
   "id": "92e400f9",
   "metadata": {},
   "outputs": [
    {
     "name": "stdout",
     "output_type": "stream",
     "text": [
      "  apple,fruits\n"
     ]
    }
   ],
   "source": [
    "def uncommon(a,b):\n",
    "    \n",
    "    list_a = a.split()\n",
    "    list_b = b.split()\n",
    "    \n",
    "    uc = ' '\n",
    "    \n",
    "    for i in list_a:\n",
    "        if i not in list_b:\n",
    "            uc = uc+\" \"+i\n",
    "    \n",
    "    for j in list_b:\n",
    "        if j not in list_a:\n",
    "            uc = uc + \",\"+ j\n",
    "            \n",
    "    return uc\n",
    "\n",
    "a = \"apple banana mango\"\n",
    "b= \"banana fruits mango\"\n",
    "\n",
    "print(uncommon(a,b))\n"
   ]
  },
  {
   "cell_type": "markdown",
   "id": "1f4b4119",
   "metadata": {},
   "source": [
    "6.Write a Python to find all duplicate characters in string?"
   ]
  },
  {
   "cell_type": "code",
   "execution_count": 18,
   "id": "69e42aff",
   "metadata": {},
   "outputs": [
    {
     "name": "stdout",
     "output_type": "stream",
     "text": [
      "o\n",
      "r\n",
      "k\n",
      "i\n",
      "n\n",
      "g\n",
      " \n",
      "h\n",
      "a\n",
      "d\n",
      "e\n",
      "t\n"
     ]
    }
   ],
   "source": [
    "from collections import Counter\n",
    "\n",
    "def find_dup_char(input):\n",
    "    \n",
    "    WC = Counter(input)\n",
    "    \n",
    "    for letter , count in WC.items():\n",
    "        if(count > 1):\n",
    "            print(letter)\n",
    "\n",
    "input = \"working hard and completting the task\"\n",
    "find_dup_char(input)\n",
    "        "
   ]
  },
  {
   "cell_type": "markdown",
   "id": "9a95f4d7",
   "metadata": {},
   "source": [
    "7.Write a Python Program to check if a string contains any special character?"
   ]
  },
  {
   "cell_type": "code",
   "execution_count": 22,
   "id": "3961115d",
   "metadata": {},
   "outputs": [
    {
     "name": "stdout",
     "output_type": "stream",
     "text": [
      "String is not accepted\n",
      "-------------------------------\n",
      "String is accepted\n"
     ]
    }
   ],
   "source": [
    "import re\n",
    "\n",
    "def run(string):\n",
    "    \n",
    "    regex = re.compile('[@_!#$%^&*()<>?/\\|}{~:]')\n",
    "    \n",
    "    if(regex.search(string)==None):\n",
    "        print(\"String is accepted\")\n",
    "        \n",
    "    else:\n",
    "        print(\"String is not accepted\")\n",
    "        \n",
    "string = \"Learning#DataScience#ineuron\"\n",
    "run(string)\n",
    "print(\"-------------------------------\")\n",
    "string = \"Learning DataScience ineuron\"\n",
    "run(string)"
   ]
  },
  {
   "cell_type": "code",
   "execution_count": null,
   "id": "1cdd5362",
   "metadata": {},
   "outputs": [],
   "source": []
  }
 ],
 "metadata": {
  "kernelspec": {
   "display_name": "Python 3 (ipykernel)",
   "language": "python",
   "name": "python3"
  },
  "language_info": {
   "codemirror_mode": {
    "name": "ipython",
    "version": 3
   },
   "file_extension": ".py",
   "mimetype": "text/x-python",
   "name": "python",
   "nbconvert_exporter": "python",
   "pygments_lexer": "ipython3",
   "version": "3.9.12"
  }
 },
 "nbformat": 4,
 "nbformat_minor": 5
}
