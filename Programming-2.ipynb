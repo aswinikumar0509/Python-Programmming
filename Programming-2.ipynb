{
 "cells": [
  {
   "cell_type": "markdown",
   "id": "815c7d51",
   "metadata": {},
   "source": [
    "1. Write a Python program to convert kilometers to miles?\n",
    "\n",
    "Ans->"
   ]
  },
  {
   "cell_type": "code",
   "execution_count": 1,
   "id": "8d4e15df",
   "metadata": {},
   "outputs": [
    {
     "name": "stdout",
     "output_type": "stream",
     "text": [
      "Please enter the speed of car in Kilometre as a unit: 3\n",
      "The speed in miles 1.8641130000000001\n"
     ]
    }
   ],
   "source": [
    "def kilometer(km):\n",
    "    conversion = 0.621371 \n",
    "    miles = km*conversion\n",
    "    print(\"The speed in miles\",miles)\n",
    "km = float (input (\"Please enter the speed of car in Kilometre as a unit: \"))  \n",
    "kilometer(km)  "
   ]
  },
  {
   "cell_type": "markdown",
   "id": "082bca71",
   "metadata": {},
   "source": [
    "2. Write a Python program to convert Celsius to Fahrenheit?\n",
    "\n",
    "Ans->"
   ]
  },
  {
   "cell_type": "code",
   "execution_count": 2,
   "id": "7a1f2e89",
   "metadata": {},
   "outputs": [
    {
     "name": "stdout",
     "output_type": "stream",
     "text": [
      "50.0\n"
     ]
    }
   ],
   "source": [
    "def cel_far(n):\n",
    "    return (n*1.8)+32\n",
    "\n",
    "n = 10\n",
    "print(cel_far(n))"
   ]
  },
  {
   "cell_type": "markdown",
   "id": "41e142b5",
   "metadata": {},
   "source": [
    "3. Write a Python program to display calendar?\n",
    "\n",
    "Ans->"
   ]
  },
  {
   "cell_type": "code",
   "execution_count": 3,
   "id": "025c96d0",
   "metadata": {},
   "outputs": [
    {
     "name": "stdout",
     "output_type": "stream",
     "text": [
      "     July 2022\n",
      "Mo Tu We Th Fr Sa Su\n",
      "             1  2  3\n",
      " 4  5  6  7  8  9 10\n",
      "11 12 13 14 15 16 17\n",
      "18 19 20 21 22 23 24\n",
      "25 26 27 28 29 30 31\n",
      "\n"
     ]
    }
   ],
   "source": [
    "import calendar\n",
    "\n",
    "mm = 7\n",
    "yy = 2022\n",
    "\n",
    "print(calendar.month(yy,mm))"
   ]
  },
  {
   "cell_type": "code",
   "execution_count": 4,
   "id": "b1d1854a",
   "metadata": {},
   "outputs": [
    {
     "name": "stdout",
     "output_type": "stream",
     "text": [
      "    August 2022\n",
      "Mo Tu We Th Fr Sa Su\n",
      " 1  2  3  4  5  6  7\n",
      " 8  9 10 11 12 13 14\n",
      "15 16 17 18 19 20 21\n",
      "22 23 24 25 26 27 28\n",
      "29 30 31\n",
      "\n"
     ]
    }
   ],
   "source": [
    "mm = 8\n",
    "yy = 2022\n",
    "print(calendar.month(yy,mm))"
   ]
  },
  {
   "cell_type": "markdown",
   "id": "d93f9406",
   "metadata": {},
   "source": [
    "4. Write a Python program to solve quadratic equation?\n",
    "\n",
    "Ans->"
   ]
  },
  {
   "cell_type": "code",
   "execution_count": 5,
   "id": "490c9821",
   "metadata": {},
   "outputs": [
    {
     "name": "stdout",
     "output_type": "stream",
     "text": [
      "Enter the value of a : 3\n",
      "Enter the value of b : 2\n",
      "Enter thr value of c : 2\n",
      "The solution are (-0.3333333333333333-0.7453559924999299j) and (-0.3333333333333333+0.7453559924999299j)\n"
     ]
    }
   ],
   "source": [
    "import cmath \n",
    " \n",
    "a = int(input(\"Enter the value of a : \"))\n",
    "b = int(input(\"Enter the value of b : \"))\n",
    "c = int(input(\"Enter thr value of c : \"))\n",
    "\n",
    "d = (b**2)-(4*a*c)\n",
    "\n",
    "s1 = (-b-cmath.sqrt(d))/(2*a)\n",
    "s2 = (-b+cmath.sqrt(d))/(2*a)\n",
    "print('The solution are {0} and {1}'.format(s1,s2))"
   ]
  },
  {
   "cell_type": "markdown",
   "id": "5b644358",
   "metadata": {},
   "source": [
    "5. Write a Python program to swap two variables without temp variable?\n",
    "\n",
    "Ans->\n"
   ]
  },
  {
   "cell_type": "code",
   "execution_count": 2,
   "id": "7c2142ab",
   "metadata": {},
   "outputs": [
    {
     "name": "stdout",
     "output_type": "stream",
     "text": [
      "Before swapping \n",
      "value of a :  3 value of b :  4\n"
     ]
    }
   ],
   "source": [
    "a = 3\n",
    "b = 4\n",
    "\n",
    "print(\"Before swapping \")\n",
    "print(\"value of a : \", a ,\"value of b : \", b)\n",
    "\n",
    "a,b = b,a\n",
    "\n",
    "print(\"A swapping \")\n",
    "print(\"value of a : \", a ,\"value of b : \", b)"
   ]
  },
  {
   "cell_type": "code",
   "execution_count": null,
   "id": "b6cfda7a",
   "metadata": {},
   "outputs": [],
   "source": []
  }
 ],
 "metadata": {
  "kernelspec": {
   "display_name": "Python 3 (ipykernel)",
   "language": "python",
   "name": "python3"
  },
  "language_info": {
   "codemirror_mode": {
    "name": "ipython",
    "version": 3
   },
   "file_extension": ".py",
   "mimetype": "text/x-python",
   "name": "python",
   "nbconvert_exporter": "python",
   "pygments_lexer": "ipython3",
   "version": "3.9.12"
  }
 },
 "nbformat": 4,
 "nbformat_minor": 5
}
