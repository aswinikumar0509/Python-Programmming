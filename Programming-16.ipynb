{
 "cells": [
  {
   "cell_type": "markdown",
   "id": "77d21234",
   "metadata": {},
   "source": [
    "Question1. Write a function that stutters a word as if someone is struggling to read it. The\n",
    "first two letters are repeated twice with an ellipsis ... and space after each, and then the\n",
    "word is pronounced with a question mark ?."
   ]
  },
  {
   "cell_type": "code",
   "execution_count": 1,
   "id": "e656c617",
   "metadata": {},
   "outputs": [
    {
     "name": "stdout",
     "output_type": "stream",
     "text": [
      "in....in....incredible?\n"
     ]
    }
   ],
   "source": [
    "def stutter(word):\n",
    "    s = word[:2]\n",
    "    return(2*(s+'....'))+word +'?'\n",
    "print(stutter(\"incredible\"))"
   ]
  },
  {
   "cell_type": "markdown",
   "id": "06c62434",
   "metadata": {},
   "source": [
    "Question 2.Create a function that takes an angle in radians and returns the corresponding\n",
    "angle in degrees rounded to one decimal place."
   ]
  },
  {
   "cell_type": "code",
   "execution_count": 2,
   "id": "74f72a49",
   "metadata": {},
   "outputs": [],
   "source": [
    "def convert(radian):\n",
    "    pi = 3.14159\n",
    "    \n",
    "    degree = radian * (180/pi)\n",
    "    return degree"
   ]
  },
  {
   "cell_type": "code",
   "execution_count": 3,
   "id": "8856c18c",
   "metadata": {},
   "outputs": [
    {
     "name": "stdout",
     "output_type": "stream",
     "text": [
      "Degree =  286.4791395439889\n"
     ]
    }
   ],
   "source": [
    "radian = 5\n",
    "print(\"Degree = \" , (convert(radian)))"
   ]
  },
  {
   "cell_type": "markdown",
   "id": "f70d5684",
   "metadata": {},
   "source": [
    "Question 3. In this challenge, establish if a given integer num is a Curzon number. If 1 plus\n",
    "2 elevated to num is exactly divisible by 1 plus 2 multiplied by num, then num is a Curzon\n",
    "number.\n",
    "\n",
    "Given a non-negative integer num, implement a function that returns True if num is a Curzon\n",
    "number, or False otherwise."
   ]
  },
  {
   "cell_type": "code",
   "execution_count": 4,
   "id": "703ad143",
   "metadata": {},
   "outputs": [],
   "source": [
    "def checkIfCurzonNumber(N):\n",
    "    \n",
    "    powerTerm , ProductTerm = 0 , 0\n",
    "    powerTerm = pow(2,N)+1\n",
    "    \n",
    "    ProductTerm = 2*N+1\n",
    "    \n",
    "    if(powerTerm % ProductTerm==0):\n",
    "        print(\"yes\")\n",
    "    else:\n",
    "        print(\"No\")\n",
    "\n"
   ]
  },
  {
   "cell_type": "code",
   "execution_count": 5,
   "id": "24c8d2f0",
   "metadata": {},
   "outputs": [
    {
     "name": "stdout",
     "output_type": "stream",
     "text": [
      "yes\n"
     ]
    }
   ],
   "source": [
    "checkIfCurzonNumber(5)"
   ]
  },
  {
   "cell_type": "markdown",
   "id": "9da9231d",
   "metadata": {},
   "source": [
    "Question 4.Given the side length x find the area of a hexagon."
   ]
  },
  {
   "cell_type": "code",
   "execution_count": 7,
   "id": "b4147b38",
   "metadata": {},
   "outputs": [
    {
     "name": "stdout",
     "output_type": "stream",
     "text": [
      "Area: 41.5692\n"
     ]
    }
   ],
   "source": [
    "import math\n",
    "\n",
    "def hexagonArea(s):\n",
    "    \n",
    "    return((3 * math.sqrt(3)*(s*s))/2)\n",
    "\n",
    "if __name__ == \"__main__\" :\n",
    " \n",
    "    s = 4\n",
    " \n",
    "    print(\"Area:\",\"{0:.4f}\" .\n",
    "           format(hexagonArea(s)))"
   ]
  },
  {
   "cell_type": "markdown",
   "id": "e1801329",
   "metadata": {},
   "source": [
    "Question 5. Create a function that returns a base-2 (binary) representation of a base-10\n",
    "(decimal) string number. To convert is simple: ((2) means base-2 and (10) means base-10)\n",
    "010101001(2) = 1 + 8 + 32 + 128.\n",
    "\n",
    "\n",
    "Going from right to left, the value of the most right bit is 1, now from that every bit to the left\n",
    "will be x2 the value, value of an 8 bit binary numbers are (256, 128, 64, 32, 16, 8, 4, 2, 1)."
   ]
  },
  {
   "cell_type": "code",
   "execution_count": 8,
   "id": "6e785e6a",
   "metadata": {},
   "outputs": [
    {
     "name": "stdout",
     "output_type": "stream",
     "text": [
      "Decimal equivalent of 11A in base 16 is 282\n"
     ]
    }
   ],
   "source": [
    "def val(c):\n",
    "    if c >= '0' and c <= '9':\n",
    "        return ord(c) - ord('0')\n",
    "    else:\n",
    "        return ord(c) - ord('A') + 10;\n",
    " \n",
    "\n",
    "def toDeci(str,base):\n",
    "    llen = len(str)\n",
    "    power = 1 \n",
    "    num = 0     \n",
    " \n",
    "\n",
    "    for i in range(llen - 1, -1, -1):\n",
    "         \n",
    "      \n",
    "        if val(str[i]) >= base:\n",
    "            print('Invalid Number')\n",
    "            return -1\n",
    "        num += val(str[i]) * power\n",
    "        power = power * base\n",
    "    return num\n",
    "     \n",
    "strr = \"11A\"\n",
    "base = 16\n",
    "print('Decimal equivalent of', strr,\n",
    "              'in base', base, 'is',\n",
    "                 toDeci(strr, base))"
   ]
  },
  {
   "cell_type": "code",
   "execution_count": null,
   "id": "53a2d5e6",
   "metadata": {},
   "outputs": [],
   "source": []
  }
 ],
 "metadata": {
  "kernelspec": {
   "display_name": "Python 3 (ipykernel)",
   "language": "python",
   "name": "python3"
  },
  "language_info": {
   "codemirror_mode": {
    "name": "ipython",
    "version": 3
   },
   "file_extension": ".py",
   "mimetype": "text/x-python",
   "name": "python",
   "nbconvert_exporter": "python",
   "pygments_lexer": "ipython3",
   "version": "3.9.12"
  }
 },
 "nbformat": 4,
 "nbformat_minor": 5
}
