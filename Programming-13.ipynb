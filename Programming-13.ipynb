{
 "cells": [
  {
   "cell_type": "markdown",
   "id": "5cf1341c",
   "metadata": {},
   "source": [
    "Write a program that calculates and prints the value \n",
    "\n",
    "according to the given formula:\n",
    "\n",
    "Q = Square root of [(2 * C * D)/H]\n",
    "\n",
    "Following are the fixed values of C and H:\n",
    "\n",
    "C is 50. H is 30.\n",
    "\n",
    "D is the variable whose values should be input to your program in a comma-separated\n",
    "\n",
    "sequence."
   ]
  },
  {
   "cell_type": "code",
   "execution_count": 3,
   "id": "9bc513fb",
   "metadata": {},
   "outputs": [
    {
     "name": "stdout",
     "output_type": "stream",
     "text": [
      "40\n",
      "12\n"
     ]
    }
   ],
   "source": [
    "import math\n",
    "\n",
    "c=50\n",
    "h=30\n",
    "\n",
    "values = []\n",
    "items = [x for x in input().split(',')]\n",
    "for d in items:\n",
    "    values.append(str(int(round(math.sqrt(2*c*float(d)/h)))))\n",
    "print(','.join(values))"
   ]
  },
  {
   "cell_type": "markdown",
   "id": "8174b63d",
   "metadata": {},
   "source": [
    "2.Write a program which takes 2 digits, X,Y as input and generates a 2-dimensional array. \n",
    "The\n",
    "element value in the i-th row and j-th column of the array should be i*j.\n",
    "\n",
    "Note: i=0,1.., X-1; j=0,1,¡Y-1."
   ]
  },
  {
   "cell_type": "code",
   "execution_count": 5,
   "id": "6c2a7cbe",
   "metadata": {},
   "outputs": [
    {
     "name": "stdout",
     "output_type": "stream",
     "text": [
      "Input number of rows 3\n",
      "Input number of columns4\n",
      "[[0, 0, 0, 0], [0, 1, 2, 3], [0, 2, 4, 6]]\n"
     ]
    }
   ],
   "source": [
    "row_num = int(input(\"Input number of rows \"))\n",
    "col_num = int(input(\"Input number of columns\"))\n",
    "\n",
    "multi_list = [[0 for col in range(col_num)] for row in range(row_num)  ]\n",
    "\n",
    "for row in range(row_num):\n",
    "    for col in range(col_num):\n",
    "        multi_list[row][col] = row*col\n",
    "        \n",
    "print(multi_list)"
   ]
  },
  {
   "cell_type": "markdown",
   "id": "537b4f46",
   "metadata": {},
   "source": [
    "3.Write a program that accepts a comma separated sequence of words as input and prints the\n",
    "\n",
    "words in a comma-separated sequence after sorting them alphabetically.\n",
    "\n",
    "Suppose the following input is supplied to the program:\n",
    "\n",
    "without,hello,bag,world\n",
    "\n",
    "Then, the output should be:\n",
    "\n",
    "bag,hello,without,world"
   ]
  },
  {
   "cell_type": "code",
   "execution_count": 9,
   "id": "be79faee",
   "metadata": {},
   "outputs": [
    {
     "name": "stdout",
     "output_type": "stream",
     "text": [
      "Input words : without,hello,bag,world\n",
      "bag,hello,without,world\n"
     ]
    }
   ],
   "source": [
    "phrase = input(\"Input words : \")\n",
    "\n",
    "phrase_list = phrase.split(\",\")\n",
    "phrase_list.sort()\n",
    "print((',').join(phrase_list))"
   ]
  },
  {
   "cell_type": "markdown",
   "id": "a791009f",
   "metadata": {},
   "source": [
    "4.Write a program that accepts a sequence of whitespace separated words as input and prints\n",
    "the words after removing all duplicate words and sorting them alphanumerically.\n",
    "\n",
    "Suppose the following input is supplied to the program:\n",
    "hello world and practice makes perfect and hello world again\n",
    "\n",
    "Then, the output should be:\n",
    "\n",
    "again and hello makes perfect practice world"
   ]
  },
  {
   "cell_type": "code",
   "execution_count": 11,
   "id": "c3591bb9",
   "metadata": {},
   "outputs": [
    {
     "name": "stdout",
     "output_type": "stream",
     "text": [
      "Type in :hello world and practice makes perfect and hello world again\n",
      "again and hello makes perfect practice world\n"
     ]
    }
   ],
   "source": [
    "phrase = input(\"Type in :\")\n",
    "phrase_splited = phrase.split(' ')\n",
    "\n",
    "word_list = []\n",
    "for i in phrase_splited:\n",
    "    if i not in word_list:\n",
    "        word_list.append(i)\n",
    "    else:\n",
    "        continue\n",
    "word_list.sort()\n",
    "print((' ').join(word_list))"
   ]
  },
  {
   "cell_type": "markdown",
   "id": "7586286e",
   "metadata": {},
   "source": [
    "5.Write a program that accepts a sentence and calculate the number of letters and digits.\n",
    "\n",
    "Suppose the following input is supplied to the program:\n",
    "    \n",
    "hello world! 123\n",
    "\n",
    "Then, the output should be:\n",
    "    \n",
    "LETTERS 10\n",
    "\n",
    "DIGITS  3"
   ]
  },
  {
   "cell_type": "code",
   "execution_count": 12,
   "id": "48d7060c",
   "metadata": {},
   "outputs": [
    {
     "name": "stdout",
     "output_type": "stream",
     "text": [
      "Type in :  hello world! 123\n",
      "Letters :  10\n",
      "Digits :  3\n"
     ]
    }
   ],
   "source": [
    "phrase = input(\"Type in :  \")\n",
    "phrase = list(phrase)\n",
    "\n",
    "l,d = 0 ,0\n",
    "\n",
    "for i in phrase:\n",
    "    if i.isalpha():\n",
    "        l = l + 1\n",
    "        \n",
    "    if i.isdigit():\n",
    "        d = d+1\n",
    "        \n",
    "    else:\n",
    "        pass\n",
    "\n",
    "print(\"Letters : \",l)\n",
    "print(\"Digits : \",d)"
   ]
  },
  {
   "cell_type": "markdown",
   "id": "a6697190",
   "metadata": {},
   "source": [
    "Question 6:\n",
    "A website requires the users to input username and password to register. Write a program to\n",
    "check the validity of password input by users.\n",
    "\n",
    "Following are the criteria for checking the password:\n",
    "    \n",
    "1. At least 1 letter between [a-z]\n",
    "\n",
    "2. At least 1 number between [0-9]\n",
    "\n",
    "1. At least 1 letter between [A-Z]\n",
    "\n",
    "3. At least 1 character from [$#@]\n",
    "                              \n",
    "4. Minimum length of transaction password: 6\n",
    "                              \n",
    "5. Maximum length of transaction password: 12\n",
    "                              \n",
    "Your program should accept a sequence of comma separated passwords and will check them\n",
    "according to the above criteria. Passwords that match the criteria are to be printed, each\n",
    "separated by a comma."
   ]
  },
  {
   "cell_type": "code",
   "execution_count": 14,
   "id": "9af0e908",
   "metadata": {},
   "outputs": [
    {
     "name": "stdout",
     "output_type": "stream",
     "text": [
      "Type in : Aswini@0509\n",
      "Aswini@0509\n"
     ]
    }
   ],
   "source": [
    "import re\n",
    "\n",
    "password = input(\"Type in : \")\n",
    "password = password.split(\",\")\n",
    "\n",
    "accept_pass = []\n",
    "for i in password : \n",
    "    \n",
    "    if len(i)<6 or len(i)>12:\n",
    "        continue\n",
    "    elif not re.search(\"([a-z])+\",i):\n",
    "        continue\n",
    "    elif not re.search(\"([A-Z])+\",i):\n",
    "        continue\n",
    "    elif not re.search(\"([0-9])+\",i):\n",
    "        continue\n",
    "    elif not re.search(\"([!@$%^&])+\", i):\n",
    "        continue\n",
    "    else:\n",
    "        accept_pass.append(i)\n",
    "\n",
    "print((\" \").join(accept_pass))"
   ]
  },
  {
   "cell_type": "code",
   "execution_count": null,
   "id": "651d5ba9",
   "metadata": {},
   "outputs": [],
   "source": []
  }
 ],
 "metadata": {
  "kernelspec": {
   "display_name": "Python 3 (ipykernel)",
   "language": "python",
   "name": "python3"
  },
  "language_info": {
   "codemirror_mode": {
    "name": "ipython",
    "version": 3
   },
   "file_extension": ".py",
   "mimetype": "text/x-python",
   "name": "python",
   "nbconvert_exporter": "python",
   "pygments_lexer": "ipython3",
   "version": "3.9.12"
  }
 },
 "nbformat": 4,
 "nbformat_minor": 5
}
