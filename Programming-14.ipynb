{
 "cells": [
  {
   "cell_type": "markdown",
   "id": "eee12f94",
   "metadata": {},
   "source": [
    "1.Define a class with a generator which can iterate the numbers, which are divisible by\n",
    "7, between a given range 0 and n.\n"
   ]
  },
  {
   "cell_type": "code",
   "execution_count": 10,
   "id": "211f0546",
   "metadata": {},
   "outputs": [
    {
     "name": "stdout",
     "output_type": "stream",
     "text": [
      "0 True\n",
      "1 False\n",
      "2 False\n",
      "3 False\n",
      "4 False\n",
      "5 False\n",
      "6 False\n",
      "7 True\n",
      "8 False\n",
      "9 False\n",
      "10 False\n",
      "11 False\n",
      "12 False\n",
      "13 False\n"
     ]
    }
   ],
   "source": [
    "def divchecker(n):\n",
    "    for i in range (n):\n",
    "        if i%7==0:\n",
    "            value = True\n",
    "        else:\n",
    "            value = False\n",
    "        print(i,value)\n",
    "\n",
    "divchecker(14)"
   ]
  },
  {
   "cell_type": "markdown",
   "id": "ed94276b",
   "metadata": {},
   "source": [
    "2.Write a program to compute the frequency of the words from the input. The output\n",
    "should output after sorting the key alphanumerically.\n",
    "\n",
    "Suppose the following input is supplied to the program:\n",
    "New to Python or choosing between Python 2 and Python 3? Read Python 2 or\n",
    "Python 3.\n",
    "Then, the output should be:\n",
    "\n",
    "2:2\n",
    "\n",
    "3.:1\n",
    "\n",
    "3?:1\n",
    "\n",
    "New:1\n",
    "\n",
    "Python:5\n",
    "\n",
    "Read:1\n",
    "\n",
    "and:1\n",
    "\n",
    "between:1\n",
    "\n",
    "choosing:1\n",
    "\n",
    "or:2\n",
    "\n",
    "to:1"
   ]
  },
  {
   "cell_type": "code",
   "execution_count": 20,
   "id": "50f4476d",
   "metadata": {},
   "outputs": [
    {
     "name": "stdout",
     "output_type": "stream",
     "text": [
      "Type in  : python 3\n",
      "[('python', 1)]\n",
      "python 1\n"
     ]
    }
   ],
   "source": [
    "import operator\n",
    "\n",
    "text_line = input(\"Type in  : \")\n",
    "\n",
    "freq_dict = {}\n",
    "\n",
    "for i in text_line.split(' '):\n",
    "    if i.isalpha():\n",
    "        if i not in freq_dict:\n",
    "            freq_dict[i]=1\n",
    "        elif i in freq_dict:\n",
    "            freq_dict[i] = freq_dict[i]+1\n",
    "        else:\n",
    "            pass\n",
    "\n",
    "sorted_freq_dict = sorted(freq_dict.items() , key = operator.itemgetter(0))\n",
    "print(sorted_freq_dict)\n",
    "\n",
    "for i in sorted_freq_dict:\n",
    "    print(i[0],i[1])\n",
    "            "
   ]
  },
  {
   "cell_type": "markdown",
   "id": "7b693da0",
   "metadata": {},
   "source": [
    "3.Define a class Person and its two child classes: Male and Female. All classes have a\n",
    "method &quot;getGender&quot; which can print &quot;Male&quot; for Male class and &quot;Female&quot; for Female\n",
    "class."
   ]
  },
  {
   "cell_type": "code",
   "execution_count": 22,
   "id": "80ed11d5",
   "metadata": {},
   "outputs": [
    {
     "name": "stdout",
     "output_type": "stream",
     "text": [
      "Female\n",
      "Male\n"
     ]
    }
   ],
   "source": [
    "class person(object):\n",
    "    def __init__(self):\n",
    "        self.gender = 'unknown'\n",
    "        \n",
    "    def getGender(self):\n",
    "        print(self.gender)\n",
    "        \n",
    "class Male(person):\n",
    "    def __init__(self):\n",
    "        self.gender = \"Male\"\n",
    "        \n",
    "class Female(person):\n",
    "    def __init__(self):\n",
    "        self.gender = 'Female'\n",
    "        \n",
    "\n",
    "sharon = Female()\n",
    "doug = Male()\n",
    "\n",
    "sharon.getGender()\n",
    "doug.getGender()"
   ]
  },
  {
   "cell_type": "markdown",
   "id": "526647f2",
   "metadata": {},
   "source": [
    "Please write a program to generate all sentences where subject is in [&quot;I&quot;, &quot;You&quot;] and\n",
    "verb is in [&quot;Play&quot;, &quot;Love&quot;] and the object is in [&quot;Hockey&quot;,&quot;Football&quot;]."
   ]
  },
  {
   "cell_type": "code",
   "execution_count": 28,
   "id": "18f2d786",
   "metadata": {},
   "outputs": [
    {
     "name": "stdout",
     "output_type": "stream",
     "text": [
      "['I Love Hockey', 'I Love Football', 'I Play Hockey', 'I Play Football', 'You Love Hockey', 'You Love Football', 'You Play Hockey', 'You Play Football']\n"
     ]
    }
   ],
   "source": [
    "def generate_sentences(subjects,verbs,objects):\n",
    "    \n",
    "    list = []\n",
    "    for i in subjects:\n",
    "        for j in verbs:\n",
    "            for k in objects:\n",
    "                list.append(i+\" \"+j+\" \"+k)\n",
    "    return list\n",
    "\n",
    "subjects = [\"I\" , \"You\"]\n",
    "verbs = [\"Love\",\"Play\"]\n",
    "objects = [\"Hockey\" , \"Football\"]\n",
    "print(generate_sentences(subjects,verbs,objects))\n",
    "    "
   ]
  },
  {
   "cell_type": "markdown",
   "id": "c9e1539f",
   "metadata": {},
   "source": [
    "5.Please write a program to compress and decompress the string &quot;hello world!hello\n",
    "world!hello world!hello world!&quot;."
   ]
  },
  {
   "cell_type": "code",
   "execution_count": 35,
   "id": "8adddd3f",
   "metadata": {},
   "outputs": [
    {
     "name": "stdout",
     "output_type": "stream",
     "text": [
      "b'x\\x9c\\xcbH\\xcd\\xc9\\xc9W(\\xcf/\\xcaIQ\\xcc \\x82\\r\\x00\\xbd[\\x11\\xf5'\n",
      "b'hello world!hello world!hello world!hello world!'\n"
     ]
    }
   ],
   "source": [
    "import zlib\n",
    "s = 'hello world!hello world!hello world!hello world!'.encode()\n",
    "t = zlib.compress(s)\n",
    "print(t)\n",
    "print(zlib.decompress(t))"
   ]
  },
  {
   "cell_type": "markdown",
   "id": "a4927719",
   "metadata": {},
   "source": [
    "6.Please write a binary search function which searches an item in a sorted list. The\n",
    "function should return the index of element to be searched in the list."
   ]
  },
  {
   "cell_type": "code",
   "execution_count": 36,
   "id": "d2654033",
   "metadata": {},
   "outputs": [
    {
     "name": "stdout",
     "output_type": "stream",
     "text": [
      "Element is present at index  3\n"
     ]
    }
   ],
   "source": [
    "def binarySearch(arr, l, r, x):\n",
    " \n",
    "    # Check base case\n",
    "    if r >= l:\n",
    " \n",
    "        mid = l + (r - l) // 2\n",
    " \n",
    "        \n",
    "        if arr[mid] == x:\n",
    "            return mid\n",
    " \n",
    "     \n",
    "        elif arr[mid] > x:\n",
    "            return binarySearch(arr, l, mid-1, x)\n",
    " \n",
    "     \n",
    "        else:\n",
    "            return binarySearch(arr, mid + 1, r, x)\n",
    " \n",
    "    else:\n",
    "        \n",
    "        return -1\n",
    " \n",
    " \n",
    "\n",
    "arr = [2, 3, 4, 10, 40]\n",
    "x = 10\n",
    " \n",
    "\n",
    "result = binarySearch(arr, 0, len(arr)-1, x)\n",
    " \n",
    "if result != -1:\n",
    "    print(\"Element is present at index % d\" % result)\n",
    "else:\n",
    "    print(\"Element is not present in array\")"
   ]
  },
  {
   "cell_type": "code",
   "execution_count": null,
   "id": "7df72f79",
   "metadata": {},
   "outputs": [],
   "source": []
  }
 ],
 "metadata": {
  "kernelspec": {
   "display_name": "Python 3 (ipykernel)",
   "language": "python",
   "name": "python3"
  },
  "language_info": {
   "codemirror_mode": {
    "name": "ipython",
    "version": 3
   },
   "file_extension": ".py",
   "mimetype": "text/x-python",
   "name": "python",
   "nbconvert_exporter": "python",
   "pygments_lexer": "ipython3",
   "version": "3.9.12"
  }
 },
 "nbformat": 4,
 "nbformat_minor": 5
}
